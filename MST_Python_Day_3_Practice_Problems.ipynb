{
  "nbformat": 4,
  "nbformat_minor": 0,
  "metadata": {
    "colab": {
      "provenance": [],
      "authorship_tag": "ABX9TyNofslbERjHnKZoz7rlMT06",
      "include_colab_link": true
    },
    "kernelspec": {
      "name": "python3",
      "display_name": "Python 3"
    },
    "language_info": {
      "name": "python"
    }
  },
  "cells": [
    {
      "cell_type": "markdown",
      "metadata": {
        "id": "view-in-github",
        "colab_type": "text"
      },
      "source": [
        "<a href=\"https://colab.research.google.com/github/raan1ya/Python/blob/main/MST_Python_Day_3_Practice_Problems.ipynb\" target=\"_parent\"><img src=\"https://colab.research.google.com/assets/colab-badge.svg\" alt=\"Open In Colab\"/></a>"
      ]
    },
    {
      "cell_type": "code",
      "source": [
        "#1\n",
        "x=int(input('Enter number of participants: '))\n",
        "y=input('Enter the scores of participants seperated by comma: ').split(',')\n",
        "z=[int(a) for a in y]\n",
        "z=sorted(z)\n",
        "print('Score of the runner up is ',z[x-2])"
      ],
      "metadata": {
        "colab": {
          "base_uri": "https://localhost:8080/"
        },
        "id": "7I4cRSbyA2dg",
        "outputId": "b094d48d-f0c0-4e84-ff92-863447c5d462"
      },
      "execution_count": null,
      "outputs": [
        {
          "output_type": "stream",
          "name": "stdout",
          "text": [
            "Enter number of participants: 5\n",
            "Enter the scores of participants seperated by comma: 45,45,67,34,12\n",
            "Score of the runner up is  45\n"
          ]
        }
      ]
    },
    {
      "cell_type": "code",
      "source": [
        "#2\n",
        "D={'John':[25,32,43],'Peter':[87,55,96],'Ram':[58,55,43],'Meena':[63,79,85]}\n",
        "a=input('Enter the name you are searching for : ')\n",
        "if a in D:\n",
        "  D[a]=[88,77,99]\n",
        "  print(D)\n",
        "else:\n",
        "  print('Name not found')"
      ],
      "metadata": {
        "colab": {
          "base_uri": "https://localhost:8080/"
        },
        "id": "6uTApKTFP7qZ",
        "outputId": "9ec244eb-fed2-47a1-9009-7796434d2dae"
      },
      "execution_count": null,
      "outputs": [
        {
          "output_type": "stream",
          "name": "stdout",
          "text": [
            "Enter the name you are searching for : Ram\n",
            "{'John': [25, 32, 43], 'Peter': [87, 55, 96], 'Ram': [88, 77, 99], 'Meena': [63, 79, 85]}\n"
          ]
        }
      ]
    },
    {
      "cell_type": "code",
      "source": [
        "#3\n",
        "print('Ticket Price Calculator')\n",
        "age,gender=input('Enter your age and gender(M/F) seperated by a comma: ').split(',')\n",
        "age=int(age)\n",
        "if age<=12 and age>=5:\n",
        "  ticket=10\n",
        "elif age<=60:\n",
        "  ticket=50\n",
        "else:\n",
        "  ticket=0\n",
        "if gender=='F':\n",
        "  ticket=ticket*.5\n",
        "print(f'Your ticket costs {ticket}Rs')\n",
        "\n"
      ],
      "metadata": {
        "id": "84URWiclVX5M",
        "colab": {
          "base_uri": "https://localhost:8080/"
        },
        "outputId": "d62f5dfe-60c6-4c0d-8a7d-cbda604a9e77"
      },
      "execution_count": null,
      "outputs": [
        {
          "output_type": "stream",
          "name": "stdout",
          "text": [
            "Ticket Price Calculator\n",
            "Enter your age and gender(M/F) seperated by a comma: 50,F\n",
            "Your ticket costs 25.0Rs\n"
          ]
        }
      ]
    },
    {
      "cell_type": "markdown",
      "source": [],
      "metadata": {
        "id": "DOPTNSZYkV61"
      }
    }
  ]
}