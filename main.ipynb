string="Hello, world!"
print(string[0:5])
string="python is fun"
print(string[7:9])
string="programming"
print(string[3:7])
string="abcdefgh"
print(string[1:8:2])
string="abcdefg"
print(string[-3:])
string="Data science"
print(string[-3:])
string="abcdefghij"
print(string[1::2])
string="1234567890"
print(string[0::2])
string="Hello"
print(string[0:-5])
string="abcdefghijk"
print(string[0::2])