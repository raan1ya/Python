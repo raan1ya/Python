{
  "nbformat": 4,
  "nbformat_minor": 0,
  "metadata": {
    "colab": {
      "provenance": [],
      "authorship_tag": "ABX9TyOB/df7eU0xDkHLMNVRST5t",
      "include_colab_link": true
    },
    "kernelspec": {
      "name": "python3",
      "display_name": "Python 3"
    },
    "language_info": {
      "name": "python"
    }
  },
  "cells": [
    {
      "cell_type": "markdown",
      "metadata": {
        "id": "view-in-github",
        "colab_type": "text"
      },
      "source": [
        "<a href=\"https://colab.research.google.com/github/raan1ya/Python/blob/main/mst_python_week2_assignment.ipynb\" target=\"_parent\"><img src=\"https://colab.research.google.com/assets/colab-badge.svg\" alt=\"Open In Colab\"/></a>"
      ]
    },
    {
      "cell_type": "markdown",
      "source": [],
      "metadata": {
        "id": "cx-igLEyElGc"
      }
    },
    {
      "cell_type": "code",
      "source": [
        "print('GUESS GAME')\n",
        "import random\n",
        "secretNumber=random.randint(1,10)\n",
        "guess=3\n",
        "while guess in range(1,11):\n",
        " guess=int(input('Enter a number between 1 and 10 '))\n",
        " if guess==secretNumber:\n",
        "  print('Congratulations, you guessed the number correctly!')\n",
        "  break;\n",
        " elif guess<secretNumber:\n",
        "  print('Too low!, try again')\n",
        " else:\n",
        "  print('Too high!,try again')\n",
        "\n"
      ],
      "metadata": {
        "colab": {
          "base_uri": "https://localhost:8080/"
        },
        "id": "myP1ujziEc7K",
        "outputId": "731f4520-2189-405a-b75f-e4db460bede4"
      },
      "execution_count": null,
      "outputs": [
        {
          "output_type": "stream",
          "name": "stdout",
          "text": [
            "GUESS GAME\n",
            "Enter a number between 1 and 10 8\n",
            "Too high,try again\n",
            "Enter a number between 1 and 10 4\n",
            "Too low, try again\n",
            "Enter a number between 1 and 10 6\n",
            "Too low, try again\n",
            "Enter a number between 1 and 10 7\n",
            "Congratulations, you guessed the number correctly!\n"
          ]
        }
      ]
    },
    {
      "cell_type": "code",
      "execution_count": 9,
      "metadata": {
        "id": "L2bqlZFJDxE4",
        "colab": {
          "base_uri": "https://localhost:8080/",
          "height": 0
        },
        "outputId": "f74c0098-2067-4c97-b2e5-4a62ba45ccd8"
      },
      "outputs": [
        {
          "output_type": "stream",
          "name": "stdout",
          "text": [
            "Factorial\n",
            "Enter a number : 6\n",
            "6!= 5040\n",
            "Facebook\n",
            "Enter the length of minimum dimension, followed by width and height of the photo you are uploading: 6,5,7\n",
            "upload another\n"
          ]
        }
      ],
      "source": [
        "#2\n",
        "print('Factorial')\n",
        "a,f,n=int(input('Enter a number : ')),1,a\n",
        "while n>0:\n",
        "  f=f*n\n",
        "  n=n-1\n",
        "print(f'{a}!= {f}')\n",
        "\n",
        "print('Facebook')\n",
        "L,W,H=map(int,(input('Enter the length of minimum dimension, followed by width and height of the photo you are uploading: ')).split(','))\n",
        "if W<L or H<L:\n",
        "  print('upload another')\n",
        "elif W==L:\n",
        "  print('Accepted')\n",
        "else:\n",
        "  print('crop it')"
      ]
    }
  ]
}