{
  "nbformat": 4,
  "nbformat_minor": 0,
  "metadata": {
    "colab": {
      "provenance": [],
      "authorship_tag": "ABX9TyONfYtrwt9BEvqDEwhwStUi",
      "include_colab_link": true
    },
    "kernelspec": {
      "name": "python3",
      "display_name": "Python 3"
    },
    "language_info": {
      "name": "python"
    }
  },
  "cells": [
    {
      "cell_type": "markdown",
      "metadata": {
        "id": "view-in-github",
        "colab_type": "text"
      },
      "source": [
        "<a href=\"https://colab.research.google.com/github/raan1ya/Python/blob/main/assignment_3.ipynb\" target=\"_parent\"><img src=\"https://colab.research.google.com/assets/colab-badge.svg\" alt=\"Open In Colab\"/></a>"
      ]
    },
    {
      "cell_type": "markdown",
      "source": [
        "1. Write a function that returns the middle value among three integers.Write code to test this\n",
        "function with different inputs"
      ],
      "metadata": {
        "id": "6l-atHpmGE8u"
      }
    },
    {
      "cell_type": "code",
      "execution_count": null,
      "metadata": {
        "colab": {
          "base_uri": "https://localhost:8080/"
        },
        "id": "vsfaZ_CWF_F1",
        "outputId": "652d5140-240e-4a34-a1fa-46b4bf0687bb"
      },
      "outputs": [
        {
          "output_type": "stream",
          "name": "stdout",
          "text": [
            "Enter a 3 digit number : 679\n",
            "7\n"
          ]
        }
      ],
      "source": [
        "def middle(n):\n",
        "  if len(n)==3:\n",
        "    return n[1]\n",
        "  else:\n",
        "    print('Enter a 3 digit valid number')\n",
        "n=input('Enter a 3 digit number : ')\n",
        "print(middle(n))"
      ]
    },
    {
      "cell_type": "markdown",
      "source": [
        "2. Build a calculator in Python using functions"
      ],
      "metadata": {
        "id": "So0NoltXHHfx"
      }
    },
    {
      "cell_type": "code",
      "source": [
        "\n",
        "def calculator(n):\n",
        "  c=''\n",
        "  for i in ['+','-','*','/']:\n",
        "    if i in n:\n",
        "      a,b=map(int,n.split(i))\n",
        "      if i=='+':\n",
        "        c=a+b\n",
        "      elif i=='-':\n",
        "        c=a-b\n",
        "      elif i=='*':\n",
        "        c=a*b\n",
        "      else:\n",
        "        c=a/b\n",
        "      print(f'{n} = {c}')\n",
        "      break\n",
        "n=input('Enter the binary expression ')\n",
        "calculator(n)\n",
        "\n"
      ],
      "metadata": {
        "colab": {
          "base_uri": "https://localhost:8080/"
        },
        "id": "ymFkSllRHYTA",
        "outputId": "f8d5cf0c-4887-4bdb-b2e8-8ff151efeede"
      },
      "execution_count": null,
      "outputs": [
        {
          "output_type": "stream",
          "name": "stdout",
          "text": [
            "Enter the binary expression 7-7\n",
            "7-7 = 0\n"
          ]
        }
      ]
    },
    {
      "cell_type": "markdown",
      "source": [
        "3. Write a function that takes the lengths of the two shorter sides of a right triangle as its\n",
        "parameters. Return the hypotenuse of the triangle, computed using Pythagorean theorem,\n",
        "as the function’s result."
      ],
      "metadata": {
        "id": "qQSVcgiYSoVh"
      }
    },
    {
      "cell_type": "code",
      "source": [
        "def hypotenuse (a,b):\n",
        "  c=(a**2+b**2)**.5\n",
        "  return c\n",
        "a,b=map(int,input('Enter length of shorter sides of right triangle seperated by a comma : ').split(','))\n",
        "print(hypotenuse(a,b))"
      ],
      "metadata": {
        "colab": {
          "base_uri": "https://localhost:8080/"
        },
        "id": "OrR1WYUpSuDk",
        "outputId": "5c2a87b5-350d-4fa6-e433-4d9663a6f2cf"
      },
      "execution_count": null,
      "outputs": [
        {
          "output_type": "stream",
          "name": "stdout",
          "text": [
            "Enter length of shorter sides of right triangle seperated by a comma : 12,5\n",
            "13.0\n"
          ]
        }
      ]
    },
    {
      "cell_type": "markdown",
      "source": [
        "4. The Rectangle problem\n",
        "(a) Write a Rectangle class in Python language, allowing you to build a rectangle with\n",
        "length and width attributes.\n",
        "(b) Create a Perimeter() method to calculate the perimeter of the rectangle and a Area()\n",
        "method to calculate the area of the rectangle.\n",
        "(c) Create a method display() that display the length, width, perimeter and area of an\n",
        "object created using an instantiation on rectangle class."
      ],
      "metadata": {
        "id": "0TIOPiICVSwu"
      }
    },
    {
      "cell_type": "code",
      "source": [
        "class rectangle:\n",
        "  def __init__(self,length,width):\n",
        "    self.length=length\n",
        "    self.width=width\n",
        "  def Perimeter(self):\n",
        "    return 2*(self.length+self.width)\n",
        "  def Area(self):\n",
        "    return self.length*self.width\n",
        "  def display(self):\n",
        "    print(f'Triangle\\nLength : {self.length}\\nWidth : {self.width}\\nPerimeter : {self.Perimeter()}\\nArea : {self.Area()}')\n",
        "a,b=map(int,input('Enter length and width seperated by a comma : ').split(','))\n",
        "r1=rectangle(a,b)\n",
        "r1.display()"
      ],
      "metadata": {
        "id": "UkvoGCPAVU6Q",
        "colab": {
          "base_uri": "https://localhost:8080/"
        },
        "outputId": "9408fb6c-3dee-41bd-fd06-d172cebd944f"
      },
      "execution_count": null,
      "outputs": [
        {
          "output_type": "stream",
          "name": "stdout",
          "text": [
            "Enter length and width seperated by a comma : 3,8\n",
            "Triangle\n",
            "Length : 3\n",
            "Width : 8\n",
            "Perimeter : 22\n",
            "Area : 24\n"
          ]
        }
      ]
    },
    {
      "cell_type": "markdown",
      "source": [
        "5. The Bank Account problem\n",
        "(a) Create a Python class called BankAccount which represents a bank account, having\n",
        "as attributes: accountNumber (numeric type), name (name of the account owner as\n",
        "string type), balance.\n",
        "(b) Create a constructor with parameters: accountNumber, name, balance.\n",
        "(c) Create a Deposit() method which manages the deposit actions.\n",
        "(d) Create a Withdrawal() method which manages withdrawals actions.\n",
        "(e) Create an bankFees() method to apply the bank fees with a percentage of 5% of the\n",
        "balance account.\n",
        "(f) Create a display() method to display account details."
      ],
      "metadata": {
        "id": "3oZ4hORsVWQb"
      }
    },
    {
      "cell_type": "markdown",
      "source": [],
      "metadata": {
        "id": "8w6Fr7jYVgK8"
      }
    },
    {
      "cell_type": "code",
      "source": [
        "from re import S\n",
        "class BankAccount:\n",
        "  def __init__(self,AccountNo,Name,Balance):\n",
        "    self.AccountNo=AccountNo\n",
        "    self.Name=Name\n",
        "    self.Balance=Balance\n",
        "  def Deposit(self):\n",
        "    a=int(input('Enter the amount you\\'re depositing : '))\n",
        "    self.Balance+=a\n",
        "    print(f'Balance : {self.Balance}')\n",
        "  def Withdrawal(self):\n",
        "    a=int(input('Enter the amount you\\'re withdrawing : '))\n",
        "    self.Balance-=a\n",
        "    print(f'Balance : {self.Balance}')\n",
        "  def display(self):\n",
        "    print(f'Account Number : {self.AccountNo}\\nName : {self.Name}\\nBalance : {self.Balance}')\n",
        "  def bankFees(self):\n",
        "    print('Bank fees : ', 0.05 * self.Balance)\n",
        "b1=BankAccount(23454,'Ani Raja',23000)\n",
        "b1.display()"
      ],
      "metadata": {
        "id": "V2I17PgY85sf",
        "colab": {
          "base_uri": "https://localhost:8080/"
        },
        "outputId": "c8273251-587b-4e0f-8dca-f2fe61670eab"
      },
      "execution_count": 13,
      "outputs": [
        {
          "output_type": "stream",
          "name": "stdout",
          "text": [
            "Account Number : 23454\n",
            "Name : Ani Raja\n",
            "Balance : 23000\n"
          ]
        }
      ]
    },
    {
      "cell_type": "code",
      "source": [
        "b1.bankFees()\n",
        "b1.Withdrawal()\n",
        "b1.Deposit()"
      ],
      "metadata": {
        "colab": {
          "base_uri": "https://localhost:8080/"
        },
        "id": "h8cEwADMiuHk",
        "outputId": "ddaba09e-3127-4783-fd28-5a9573b8d368"
      },
      "execution_count": 14,
      "outputs": [
        {
          "output_type": "stream",
          "name": "stdout",
          "text": [
            "Bank fees :  1150.0\n",
            "Enter the amount you're withdrawing : 5670\n",
            "Balance : 17330\n",
            "Enter the amount you're depositing : 5469\n",
            "Balance : 22799\n"
          ]
        }
      ]
    }
  ]
}